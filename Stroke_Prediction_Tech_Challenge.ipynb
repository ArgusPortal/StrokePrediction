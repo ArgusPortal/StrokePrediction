{
 "cells": [
  {
   "cell_type": "markdown",
   "id": "980c3227",
   "metadata": {},
   "source": [
    "\n",
    "# Stroke Prediction — Tech Challenge (Notebook Base)\n",
    "\n",
    "Este notebook implementa um pipeline completo de *Machine Learning* para o dataset **Stroke Prediction** (Kaggle), cobrindo as etapas propostas pelo professor:\n",
    "\n",
    "1) **Problema** *(classificação)*  \n",
    "2) **Coleta** *(Kaggle)*  \n",
    "3) **Armazenamento** *(CSV, versões e splits)*  \n",
    "4) **Analisar** *(EDA)*  \n",
    "5) **Processar** *(limpeza, imputação, codificação, escala)*  \n",
    "6) **Modelagem** *(baselines, busca de hiperparâmetros, threshold)*  \n",
    "7) **Deploy** *(artefatos, função de inferência e API opcional)*\n",
    "\n",
    "> **Avisos importantes:**  \n",
    "> - Uso **exclusivamente educacional**, não clínico.  \n",
    "> - Dados **anonimizados**; evitar qualquer tentativa de reidentificação.  \n",
    "> - Verifique o caminho do arquivo CSV antes de executar.\n"
   ]
  },
  {
   "cell_type": "markdown",
   "id": "4e060f26",
   "metadata": {},
   "source": [
    "## 0) Setup e Imports"
   ]
  },
  {
   "cell_type": "code",
   "execution_count": 1,
   "id": "cf599b2e",
   "metadata": {},
   "outputs": [
    {
     "name": "stdout",
     "output_type": "stream",
     "text": [
      "Versões:\n",
      " - Python: 3.13.2\n",
      " - scikit-learn: 1.7.2\n",
      " - imbalanced-learn: 0.14.0\n",
      " - pandas: 2.3.3\n",
      " - numpy: 2.3.3\n",
      " - matplotlib: 3.10.6\n"
     ]
    }
   ],
   "source": [
    "\n",
    "# (Opcional) instalar dependências caso necessário\n",
    "# Se o ambiente já tiver os pacotes, você pode pular esta célula.\n",
    "try:\n",
    "    import sklearn, imblearn, matplotlib, pandas, numpy, joblib\n",
    "except Exception:\n",
    "    import sys, subprocess\n",
    "    subprocess.check_call([sys.executable, \"-m\", \"pip\", \"install\", \"-q\",\n",
    "                           \"scikit-learn\", \"imbalanced-learn\", \"matplotlib\", \"pandas\", \"numpy\", \"joblib\"])\n",
    "\n",
    "import sys, os, json, time, random, math\n",
    "import numpy as np\n",
    "import pandas as pd\n",
    "import matplotlib.pyplot as plt\n",
    "\n",
    "from pathlib import Path\n",
    "from datetime import datetime\n",
    "\n",
    "from sklearn.model_selection import train_test_split, StratifiedKFold, RandomizedSearchCV\n",
    "from sklearn.compose import ColumnTransformer\n",
    "from sklearn.preprocessing import OneHotEncoder, StandardScaler\n",
    "from sklearn.impute import SimpleImputer\n",
    "from sklearn.metrics import (\n",
    "    roc_auc_score, average_precision_score, classification_report,\n",
    "    precision_recall_curve, confusion_matrix, ConfusionMatrixDisplay\n",
    ")\n",
    "from sklearn.dummy import DummyClassifier\n",
    "from sklearn.linear_model import LogisticRegression\n",
    "from sklearn.ensemble import RandomForestClassifier\n",
    "from sklearn.calibration import CalibratedClassifierCV\n",
    "from sklearn.inspection import permutation_importance\n",
    "\n",
    "from imblearn.pipeline import Pipeline as ImbPipeline\n",
    "from imblearn.over_sampling import SMOTE\n",
    "from scipy.stats import randint\n",
    "\n",
    "import joblib\n",
    "\n",
    "# parâmetros gerais\n",
    "SEED = 42\n",
    "np.random.seed(SEED)\n",
    "random.seed(SEED)\n",
    "\n",
    "# Paths (ajuste conforme sua estrutura)\n",
    "BASE_DIR = Path(\".\").resolve()\n",
    "DATA_DIR = (BASE_DIR / \"data\")\n",
    "RAW_PATH = DATA_DIR / \"raw\"\n",
    "INTERIM_PATH = DATA_DIR / \"interim\"\n",
    "PROC_PATH = DATA_DIR / \"processed\"\n",
    "MODELS_PATH = BASE_DIR / \"models\"\n",
    "\n",
    "for p in [RAW_PATH, INTERIM_PATH, PROC_PATH, MODELS_PATH]:\n",
    "    p.mkdir(parents=True, exist_ok=True)\n",
    "\n",
    "print(\"Versões:\")\n",
    "print(\" - Python:\", sys.version.split()[0])\n",
    "import sklearn, imblearn\n",
    "print(\" - scikit-learn:\", sklearn.__version__)\n",
    "print(\" - imbalanced-learn:\", imblearn.__version__)\n",
    "print(\" - pandas:\", pd.__version__)\n",
    "print(\" - numpy:\", np.__version__)\n",
    "print(\" - matplotlib:\", plt.matplotlib.__version__)\n"
   ]
  },
  {
   "cell_type": "markdown",
   "id": "104c0ee8",
   "metadata": {},
   "source": [
    "\n",
    "## 1) Definição do Problema\n",
    "\n",
    "- **Tarefa:** Classificação binária — prever `stroke` (1 = teve AVC, 0 = não).\n",
    "- **Objetivo:** Estimar o risco de AVC com base em atributos clínicos/demográficos.\n",
    "- **Métricas foco:** AUC-ROC, **AUC-PR**, *Recall*, *Precision* da classe positiva e **Balanced Accuracy**.\n",
    "- **Observação:** Classe positiva é **rara** — cuidado com desbalanceamento e threshold.\n",
    "- **Ética & viés:** Reportar métricas por subgrupos (ex.: `gender`, `Residence_type`).\n",
    "- **Nota:** `id` é identificador e **não** entra no modelo.\n"
   ]
  },
  {
   "cell_type": "markdown",
   "id": "3de2ee91",
   "metadata": {},
   "source": [
    "## 2) Coleta e Carregamento de Dados (Kaggle → CSV)"
   ]
  },
  {
   "cell_type": "code",
   "execution_count": 2,
   "id": "c4d3e9c9",
   "metadata": {},
   "outputs": [
    {
     "name": "stdout",
     "output_type": "stream",
     "text": [
      "Usando CSV: strokedata.csv\n"
     ]
    },
    {
     "data": {
      "application/vnd.microsoft.datawrangler.viewer.v0+json": {
       "columns": [
        {
         "name": "index",
         "rawType": "int64",
         "type": "integer"
        },
        {
         "name": "id",
         "rawType": "int64",
         "type": "integer"
        },
        {
         "name": "gender",
         "rawType": "object",
         "type": "string"
        },
        {
         "name": "age",
         "rawType": "float64",
         "type": "float"
        },
        {
         "name": "hypertension",
         "rawType": "int64",
         "type": "integer"
        },
        {
         "name": "heart_disease",
         "rawType": "int64",
         "type": "integer"
        },
        {
         "name": "ever_married",
         "rawType": "object",
         "type": "string"
        },
        {
         "name": "work_type",
         "rawType": "object",
         "type": "string"
        },
        {
         "name": "Residence_type",
         "rawType": "object",
         "type": "string"
        },
        {
         "name": "avg_glucose_level",
         "rawType": "float64",
         "type": "float"
        },
        {
         "name": "bmi",
         "rawType": "float64",
         "type": "float"
        },
        {
         "name": "smoking_status",
         "rawType": "object",
         "type": "string"
        },
        {
         "name": "stroke",
         "rawType": "int64",
         "type": "integer"
        }
       ],
       "ref": "b5ed4d09-8928-45c3-8981-0a1b4470053e",
       "rows": [
        [
         "0",
         "9046",
         "Male",
         "67.0",
         "0",
         "1",
         "Yes",
         "Private",
         "Urban",
         "228.69",
         "36.6",
         "formerly smoked",
         "1"
        ],
        [
         "1",
         "51676",
         "Female",
         "61.0",
         "0",
         "0",
         "Yes",
         "Self-employed",
         "Rural",
         "202.21",
         null,
         "never smoked",
         "1"
        ],
        [
         "2",
         "31112",
         "Male",
         "80.0",
         "0",
         "1",
         "Yes",
         "Private",
         "Rural",
         "105.92",
         "32.5",
         "never smoked",
         "1"
        ],
        [
         "3",
         "60182",
         "Female",
         "49.0",
         "0",
         "0",
         "Yes",
         "Private",
         "Urban",
         "171.23",
         "34.4",
         "smokes",
         "1"
        ],
        [
         "4",
         "1665",
         "Female",
         "79.0",
         "1",
         "0",
         "Yes",
         "Self-employed",
         "Rural",
         "174.12",
         "24.0",
         "never smoked",
         "1"
        ]
       ],
       "shape": {
        "columns": 12,
        "rows": 5
       }
      },
      "text/html": [
       "<div>\n",
       "<style scoped>\n",
       "    .dataframe tbody tr th:only-of-type {\n",
       "        vertical-align: middle;\n",
       "    }\n",
       "\n",
       "    .dataframe tbody tr th {\n",
       "        vertical-align: top;\n",
       "    }\n",
       "\n",
       "    .dataframe thead th {\n",
       "        text-align: right;\n",
       "    }\n",
       "</style>\n",
       "<table border=\"1\" class=\"dataframe\">\n",
       "  <thead>\n",
       "    <tr style=\"text-align: right;\">\n",
       "      <th></th>\n",
       "      <th>id</th>\n",
       "      <th>gender</th>\n",
       "      <th>age</th>\n",
       "      <th>hypertension</th>\n",
       "      <th>heart_disease</th>\n",
       "      <th>ever_married</th>\n",
       "      <th>work_type</th>\n",
       "      <th>Residence_type</th>\n",
       "      <th>avg_glucose_level</th>\n",
       "      <th>bmi</th>\n",
       "      <th>smoking_status</th>\n",
       "      <th>stroke</th>\n",
       "    </tr>\n",
       "  </thead>\n",
       "  <tbody>\n",
       "    <tr>\n",
       "      <th>0</th>\n",
       "      <td>9046</td>\n",
       "      <td>Male</td>\n",
       "      <td>67.0</td>\n",
       "      <td>0</td>\n",
       "      <td>1</td>\n",
       "      <td>Yes</td>\n",
       "      <td>Private</td>\n",
       "      <td>Urban</td>\n",
       "      <td>228.69</td>\n",
       "      <td>36.6</td>\n",
       "      <td>formerly smoked</td>\n",
       "      <td>1</td>\n",
       "    </tr>\n",
       "    <tr>\n",
       "      <th>1</th>\n",
       "      <td>51676</td>\n",
       "      <td>Female</td>\n",
       "      <td>61.0</td>\n",
       "      <td>0</td>\n",
       "      <td>0</td>\n",
       "      <td>Yes</td>\n",
       "      <td>Self-employed</td>\n",
       "      <td>Rural</td>\n",
       "      <td>202.21</td>\n",
       "      <td>NaN</td>\n",
       "      <td>never smoked</td>\n",
       "      <td>1</td>\n",
       "    </tr>\n",
       "    <tr>\n",
       "      <th>2</th>\n",
       "      <td>31112</td>\n",
       "      <td>Male</td>\n",
       "      <td>80.0</td>\n",
       "      <td>0</td>\n",
       "      <td>1</td>\n",
       "      <td>Yes</td>\n",
       "      <td>Private</td>\n",
       "      <td>Rural</td>\n",
       "      <td>105.92</td>\n",
       "      <td>32.5</td>\n",
       "      <td>never smoked</td>\n",
       "      <td>1</td>\n",
       "    </tr>\n",
       "    <tr>\n",
       "      <th>3</th>\n",
       "      <td>60182</td>\n",
       "      <td>Female</td>\n",
       "      <td>49.0</td>\n",
       "      <td>0</td>\n",
       "      <td>0</td>\n",
       "      <td>Yes</td>\n",
       "      <td>Private</td>\n",
       "      <td>Urban</td>\n",
       "      <td>171.23</td>\n",
       "      <td>34.4</td>\n",
       "      <td>smokes</td>\n",
       "      <td>1</td>\n",
       "    </tr>\n",
       "    <tr>\n",
       "      <th>4</th>\n",
       "      <td>1665</td>\n",
       "      <td>Female</td>\n",
       "      <td>79.0</td>\n",
       "      <td>1</td>\n",
       "      <td>0</td>\n",
       "      <td>Yes</td>\n",
       "      <td>Self-employed</td>\n",
       "      <td>Rural</td>\n",
       "      <td>174.12</td>\n",
       "      <td>24.0</td>\n",
       "      <td>never smoked</td>\n",
       "      <td>1</td>\n",
       "    </tr>\n",
       "  </tbody>\n",
       "</table>\n",
       "</div>"
      ],
      "text/plain": [
       "      id  gender   age  hypertension  heart_disease ever_married  \\\n",
       "0   9046    Male  67.0             0              1          Yes   \n",
       "1  51676  Female  61.0             0              0          Yes   \n",
       "2  31112    Male  80.0             0              1          Yes   \n",
       "3  60182  Female  49.0             0              0          Yes   \n",
       "4   1665  Female  79.0             1              0          Yes   \n",
       "\n",
       "       work_type Residence_type  avg_glucose_level   bmi   smoking_status  \\\n",
       "0        Private          Urban             228.69  36.6  formerly smoked   \n",
       "1  Self-employed          Rural             202.21   NaN     never smoked   \n",
       "2        Private          Rural             105.92  32.5     never smoked   \n",
       "3        Private          Urban             171.23  34.4           smokes   \n",
       "4  Self-employed          Rural             174.12  24.0     never smoked   \n",
       "\n",
       "   stroke  \n",
       "0       1  \n",
       "1       1  \n",
       "2       1  \n",
       "3       1  \n",
       "4       1  "
      ]
     },
     "execution_count": 2,
     "metadata": {},
     "output_type": "execute_result"
    }
   ],
   "source": [
    "\n",
    "# Informe o nome do arquivo CSV baixado do Kaggle e colocado em data/raw\n",
    "# Exemplos comuns no Kaggle:\n",
    "#  - \"healthcare-dataset-stroke-data.csv\"\n",
    "#  - \"stroke-data.csv\"\n",
    "CANDIDATES = [\n",
    "    \"healthcare-dataset-stroke-data.csv\",\n",
    "    \"strokedata.csv\",\n",
    "    \"stroke.csv\",\n",
    "]\n",
    "\n",
    "csv_path = None\n",
    "for name in CANDIDATES:\n",
    "    p = RAW_PATH / name\n",
    "    if p.exists():\n",
    "        csv_path = p\n",
    "        break\n",
    "\n",
    "if csv_path is None:\n",
    "    # Tente detectar automaticamente um único CSV em data/raw\n",
    "    csvs = list(RAW_PATH.glob(\"*.csv\"))\n",
    "    if len(csvs) == 1:\n",
    "        csv_path = csvs[0]\n",
    "\n",
    "if csv_path is None:\n",
    "    raise FileNotFoundError(\n",
    "        \"CSV não encontrado em data/raw. Coloque o arquivo do Kaggle lá e ajuste o nome na célula acima.\"\n",
    "    )\n",
    "\n",
    "print(\"Usando CSV:\", csv_path.name)\n",
    "df = pd.read_csv(csv_path)\n",
    "df.head()\n"
   ]
  },
  {
   "cell_type": "markdown",
   "id": "d1708db4",
   "metadata": {},
   "source": [
    "## 3) Armazenamento"
   ]
  },
  {
   "cell_type": "code",
   "execution_count": 3,
   "id": "7ed0f4c7",
   "metadata": {},
   "outputs": [
    {
     "data": {
      "text/plain": [
       "(5110,\n",
       " ['id',\n",
       "  'gender',\n",
       "  'age',\n",
       "  'hypertension',\n",
       "  'heart_disease',\n",
       "  'ever_married',\n",
       "  'work_type',\n",
       "  'Residence_type',\n",
       "  'avg_glucose_level',\n",
       "  'bmi',\n",
       "  'smoking_status',\n",
       "  'stroke'])"
      ]
     },
     "execution_count": 3,
     "metadata": {},
     "output_type": "execute_result"
    }
   ],
   "source": [
    "\n",
    "# Guardar uma cópia \"interim\" (opcional)\n",
    "df.to_csv(INTERIM_PATH / \"stroke_raw_copy.csv\", index=False)\n",
    "len(df), df.columns.tolist()\n"
   ]
  },
  {
   "cell_type": "markdown",
   "id": "1c60d2c5",
   "metadata": {},
   "source": [
    "## 4) Análise Exploratória (EDA)"
   ]
  },
  {
   "cell_type": "code",
   "execution_count": 4,
   "id": "24a74062",
   "metadata": {},
   "outputs": [
    {
     "name": "stdout",
     "output_type": "stream",
     "text": [
      "<class 'pandas.core.frame.DataFrame'>\n",
      "RangeIndex: 5110 entries, 0 to 5109\n",
      "Data columns (total 12 columns):\n",
      " #   Column             Non-Null Count  Dtype  \n",
      "---  ------             --------------  -----  \n",
      " 0   id                 5110 non-null   int64  \n",
      " 1   gender             5110 non-null   object \n",
      " 2   age                5110 non-null   float64\n",
      " 3   hypertension       5110 non-null   int64  \n",
      " 4   heart_disease      5110 non-null   int64  \n",
      " 5   ever_married       5110 non-null   object \n",
      " 6   work_type          5110 non-null   object \n",
      " 7   Residence_type     5110 non-null   object \n",
      " 8   avg_glucose_level  5110 non-null   float64\n",
      " 9   bmi                4909 non-null   float64\n",
      " 10  smoking_status     5110 non-null   object \n",
      " 11  stroke             5110 non-null   int64  \n",
      "dtypes: float64(3), int64(4), object(5)\n",
      "memory usage: 479.2+ KB\n"
     ]
    },
    {
     "data": {
      "text/plain": [
       "None"
      ]
     },
     "metadata": {},
     "output_type": "display_data"
    },
    {
     "data": {
      "application/vnd.microsoft.datawrangler.viewer.v0+json": {
       "columns": [
        {
         "name": "index",
         "rawType": "object",
         "type": "string"
        },
        {
         "name": "count",
         "rawType": "object",
         "type": "unknown"
        },
        {
         "name": "unique",
         "rawType": "object",
         "type": "unknown"
        },
        {
         "name": "top",
         "rawType": "object",
         "type": "unknown"
        },
        {
         "name": "freq",
         "rawType": "object",
         "type": "unknown"
        },
        {
         "name": "mean",
         "rawType": "object",
         "type": "unknown"
        },
        {
         "name": "std",
         "rawType": "object",
         "type": "unknown"
        },
        {
         "name": "min",
         "rawType": "object",
         "type": "unknown"
        },
        {
         "name": "25%",
         "rawType": "object",
         "type": "unknown"
        },
        {
         "name": "50%",
         "rawType": "object",
         "type": "unknown"
        },
        {
         "name": "75%",
         "rawType": "object",
         "type": "unknown"
        },
        {
         "name": "max",
         "rawType": "object",
         "type": "unknown"
        }
       ],
       "ref": "aa8bb4f3-138e-4e79-a258-e4c17d26f6b3",
       "rows": [
        [
         "id",
         "5110.0",
         null,
         null,
         null,
         "36517.82935420744",
         "21161.721624827165",
         "67.0",
         "17741.25",
         "36932.0",
         "54682.0",
         "72940.0"
        ],
        [
         "gender",
         "5110",
         "3",
         "Female",
         "2994",
         null,
         null,
         null,
         null,
         null,
         null,
         null
        ],
        [
         "age",
         "5110.0",
         null,
         null,
         null,
         "43.226614481409",
         "22.61264672311349",
         "0.08",
         "25.0",
         "45.0",
         "61.0",
         "82.0"
        ],
        [
         "hypertension",
         "5110.0",
         null,
         null,
         null,
         "0.0974559686888454",
         "0.29660667423379117",
         "0.0",
         "0.0",
         "0.0",
         "0.0",
         "1.0"
        ],
        [
         "heart_disease",
         "5110.0",
         null,
         null,
         null,
         "0.05401174168297456",
         "0.22606298750336543",
         "0.0",
         "0.0",
         "0.0",
         "0.0",
         "1.0"
        ],
        [
         "ever_married",
         "5110",
         "2",
         "Yes",
         "3353",
         null,
         null,
         null,
         null,
         null,
         null,
         null
        ],
        [
         "work_type",
         "5110",
         "5",
         "Private",
         "2925",
         null,
         null,
         null,
         null,
         null,
         null,
         null
        ],
        [
         "Residence_type",
         "5110",
         "2",
         "Urban",
         "2596",
         null,
         null,
         null,
         null,
         null,
         null,
         null
        ],
        [
         "avg_glucose_level",
         "5110.0",
         null,
         null,
         null,
         "106.1476771037182",
         "45.28356015058198",
         "55.12",
         "77.245",
         "91.88499999999999",
         "114.09",
         "271.74"
        ],
        [
         "bmi",
         "4909.0",
         null,
         null,
         null,
         "28.893236911794666",
         "7.854066729680164",
         "10.3",
         "23.5",
         "28.1",
         "33.1",
         "97.6"
        ],
        [
         "smoking_status",
         "5110",
         "4",
         "never smoked",
         "1892",
         null,
         null,
         null,
         null,
         null,
         null,
         null
        ],
        [
         "stroke",
         "5110.0",
         null,
         null,
         null,
         "0.0487279843444227",
         "0.2153198569802376",
         "0.0",
         "0.0",
         "0.0",
         "0.0",
         "1.0"
        ]
       ],
       "shape": {
        "columns": 11,
        "rows": 12
       }
      },
      "text/html": [
       "<div>\n",
       "<style scoped>\n",
       "    .dataframe tbody tr th:only-of-type {\n",
       "        vertical-align: middle;\n",
       "    }\n",
       "\n",
       "    .dataframe tbody tr th {\n",
       "        vertical-align: top;\n",
       "    }\n",
       "\n",
       "    .dataframe thead th {\n",
       "        text-align: right;\n",
       "    }\n",
       "</style>\n",
       "<table border=\"1\" class=\"dataframe\">\n",
       "  <thead>\n",
       "    <tr style=\"text-align: right;\">\n",
       "      <th></th>\n",
       "      <th>count</th>\n",
       "      <th>unique</th>\n",
       "      <th>top</th>\n",
       "      <th>freq</th>\n",
       "      <th>mean</th>\n",
       "      <th>std</th>\n",
       "      <th>min</th>\n",
       "      <th>25%</th>\n",
       "      <th>50%</th>\n",
       "      <th>75%</th>\n",
       "      <th>max</th>\n",
       "    </tr>\n",
       "  </thead>\n",
       "  <tbody>\n",
       "    <tr>\n",
       "      <th>id</th>\n",
       "      <td>5110.0</td>\n",
       "      <td>NaN</td>\n",
       "      <td>NaN</td>\n",
       "      <td>NaN</td>\n",
       "      <td>36517.829354</td>\n",
       "      <td>21161.721625</td>\n",
       "      <td>67.0</td>\n",
       "      <td>17741.25</td>\n",
       "      <td>36932.0</td>\n",
       "      <td>54682.0</td>\n",
       "      <td>72940.0</td>\n",
       "    </tr>\n",
       "    <tr>\n",
       "      <th>gender</th>\n",
       "      <td>5110</td>\n",
       "      <td>3</td>\n",
       "      <td>Female</td>\n",
       "      <td>2994</td>\n",
       "      <td>NaN</td>\n",
       "      <td>NaN</td>\n",
       "      <td>NaN</td>\n",
       "      <td>NaN</td>\n",
       "      <td>NaN</td>\n",
       "      <td>NaN</td>\n",
       "      <td>NaN</td>\n",
       "    </tr>\n",
       "    <tr>\n",
       "      <th>age</th>\n",
       "      <td>5110.0</td>\n",
       "      <td>NaN</td>\n",
       "      <td>NaN</td>\n",
       "      <td>NaN</td>\n",
       "      <td>43.226614</td>\n",
       "      <td>22.612647</td>\n",
       "      <td>0.08</td>\n",
       "      <td>25.0</td>\n",
       "      <td>45.0</td>\n",
       "      <td>61.0</td>\n",
       "      <td>82.0</td>\n",
       "    </tr>\n",
       "    <tr>\n",
       "      <th>hypertension</th>\n",
       "      <td>5110.0</td>\n",
       "      <td>NaN</td>\n",
       "      <td>NaN</td>\n",
       "      <td>NaN</td>\n",
       "      <td>0.097456</td>\n",
       "      <td>0.296607</td>\n",
       "      <td>0.0</td>\n",
       "      <td>0.0</td>\n",
       "      <td>0.0</td>\n",
       "      <td>0.0</td>\n",
       "      <td>1.0</td>\n",
       "    </tr>\n",
       "    <tr>\n",
       "      <th>heart_disease</th>\n",
       "      <td>5110.0</td>\n",
       "      <td>NaN</td>\n",
       "      <td>NaN</td>\n",
       "      <td>NaN</td>\n",
       "      <td>0.054012</td>\n",
       "      <td>0.226063</td>\n",
       "      <td>0.0</td>\n",
       "      <td>0.0</td>\n",
       "      <td>0.0</td>\n",
       "      <td>0.0</td>\n",
       "      <td>1.0</td>\n",
       "    </tr>\n",
       "    <tr>\n",
       "      <th>ever_married</th>\n",
       "      <td>5110</td>\n",
       "      <td>2</td>\n",
       "      <td>Yes</td>\n",
       "      <td>3353</td>\n",
       "      <td>NaN</td>\n",
       "      <td>NaN</td>\n",
       "      <td>NaN</td>\n",
       "      <td>NaN</td>\n",
       "      <td>NaN</td>\n",
       "      <td>NaN</td>\n",
       "      <td>NaN</td>\n",
       "    </tr>\n",
       "    <tr>\n",
       "      <th>work_type</th>\n",
       "      <td>5110</td>\n",
       "      <td>5</td>\n",
       "      <td>Private</td>\n",
       "      <td>2925</td>\n",
       "      <td>NaN</td>\n",
       "      <td>NaN</td>\n",
       "      <td>NaN</td>\n",
       "      <td>NaN</td>\n",
       "      <td>NaN</td>\n",
       "      <td>NaN</td>\n",
       "      <td>NaN</td>\n",
       "    </tr>\n",
       "    <tr>\n",
       "      <th>Residence_type</th>\n",
       "      <td>5110</td>\n",
       "      <td>2</td>\n",
       "      <td>Urban</td>\n",
       "      <td>2596</td>\n",
       "      <td>NaN</td>\n",
       "      <td>NaN</td>\n",
       "      <td>NaN</td>\n",
       "      <td>NaN</td>\n",
       "      <td>NaN</td>\n",
       "      <td>NaN</td>\n",
       "      <td>NaN</td>\n",
       "    </tr>\n",
       "    <tr>\n",
       "      <th>avg_glucose_level</th>\n",
       "      <td>5110.0</td>\n",
       "      <td>NaN</td>\n",
       "      <td>NaN</td>\n",
       "      <td>NaN</td>\n",
       "      <td>106.147677</td>\n",
       "      <td>45.28356</td>\n",
       "      <td>55.12</td>\n",
       "      <td>77.245</td>\n",
       "      <td>91.885</td>\n",
       "      <td>114.09</td>\n",
       "      <td>271.74</td>\n",
       "    </tr>\n",
       "    <tr>\n",
       "      <th>bmi</th>\n",
       "      <td>4909.0</td>\n",
       "      <td>NaN</td>\n",
       "      <td>NaN</td>\n",
       "      <td>NaN</td>\n",
       "      <td>28.893237</td>\n",
       "      <td>7.854067</td>\n",
       "      <td>10.3</td>\n",
       "      <td>23.5</td>\n",
       "      <td>28.1</td>\n",
       "      <td>33.1</td>\n",
       "      <td>97.6</td>\n",
       "    </tr>\n",
       "    <tr>\n",
       "      <th>smoking_status</th>\n",
       "      <td>5110</td>\n",
       "      <td>4</td>\n",
       "      <td>never smoked</td>\n",
       "      <td>1892</td>\n",
       "      <td>NaN</td>\n",
       "      <td>NaN</td>\n",
       "      <td>NaN</td>\n",
       "      <td>NaN</td>\n",
       "      <td>NaN</td>\n",
       "      <td>NaN</td>\n",
       "      <td>NaN</td>\n",
       "    </tr>\n",
       "    <tr>\n",
       "      <th>stroke</th>\n",
       "      <td>5110.0</td>\n",
       "      <td>NaN</td>\n",
       "      <td>NaN</td>\n",
       "      <td>NaN</td>\n",
       "      <td>0.048728</td>\n",
       "      <td>0.21532</td>\n",
       "      <td>0.0</td>\n",
       "      <td>0.0</td>\n",
       "      <td>0.0</td>\n",
       "      <td>0.0</td>\n",
       "      <td>1.0</td>\n",
       "    </tr>\n",
       "  </tbody>\n",
       "</table>\n",
       "</div>"
      ],
      "text/plain": [
       "                    count unique           top  freq          mean  \\\n",
       "id                 5110.0    NaN           NaN   NaN  36517.829354   \n",
       "gender               5110      3        Female  2994           NaN   \n",
       "age                5110.0    NaN           NaN   NaN     43.226614   \n",
       "hypertension       5110.0    NaN           NaN   NaN      0.097456   \n",
       "heart_disease      5110.0    NaN           NaN   NaN      0.054012   \n",
       "ever_married         5110      2           Yes  3353           NaN   \n",
       "work_type            5110      5       Private  2925           NaN   \n",
       "Residence_type       5110      2         Urban  2596           NaN   \n",
       "avg_glucose_level  5110.0    NaN           NaN   NaN    106.147677   \n",
       "bmi                4909.0    NaN           NaN   NaN     28.893237   \n",
       "smoking_status       5110      4  never smoked  1892           NaN   \n",
       "stroke             5110.0    NaN           NaN   NaN      0.048728   \n",
       "\n",
       "                            std    min       25%      50%      75%      max  \n",
       "id                 21161.721625   67.0  17741.25  36932.0  54682.0  72940.0  \n",
       "gender                      NaN    NaN       NaN      NaN      NaN      NaN  \n",
       "age                   22.612647   0.08      25.0     45.0     61.0     82.0  \n",
       "hypertension           0.296607    0.0       0.0      0.0      0.0      1.0  \n",
       "heart_disease          0.226063    0.0       0.0      0.0      0.0      1.0  \n",
       "ever_married                NaN    NaN       NaN      NaN      NaN      NaN  \n",
       "work_type                   NaN    NaN       NaN      NaN      NaN      NaN  \n",
       "Residence_type              NaN    NaN       NaN      NaN      NaN      NaN  \n",
       "avg_glucose_level      45.28356  55.12    77.245   91.885   114.09   271.74  \n",
       "bmi                    7.854067   10.3      23.5     28.1     33.1     97.6  \n",
       "smoking_status              NaN    NaN       NaN      NaN      NaN      NaN  \n",
       "stroke                  0.21532    0.0       0.0      0.0      0.0      1.0  "
      ]
     },
     "metadata": {},
     "output_type": "display_data"
    },
    {
     "name": "stdout",
     "output_type": "stream",
     "text": [
      "\n",
      "Distribuição do alvo (stroke):\n",
      "stroke\n",
      "0    0.951272\n",
      "1    0.048728\n",
      "Name: proportion, dtype: float64\n",
      "\n",
      "Valores ausentes por coluna:\n",
      "id                     0\n",
      "gender                 0\n",
      "age                    0\n",
      "hypertension           0\n",
      "heart_disease          0\n",
      "ever_married           0\n",
      "work_type              0\n",
      "Residence_type         0\n",
      "avg_glucose_level      0\n",
      "bmi                  201\n",
      "smoking_status         0\n",
      "stroke                 0\n",
      "dtype: int64\n"
     ]
    }
   ],
   "source": [
    "\n",
    "# Informações gerais\n",
    "display(df.info())\n",
    "display(df.describe(include=\"all\").T)\n",
    "print(\"\\nDistribuição do alvo (stroke):\")\n",
    "print(df['stroke'].value_counts(normalize=True))\n",
    "\n",
    "print(\"\\nValores ausentes por coluna:\")\n",
    "print(df.isna().sum())\n"
   ]
  },
  {
   "cell_type": "code",
   "execution_count": 5,
   "id": "bb558579",
   "metadata": {},
   "outputs": [
    {
     "name": "stdout",
     "output_type": "stream",
     "text": [
      "\n",
      "gender -> categorias: ['Female', 'Male', 'Other']\n",
      "\n",
      "ever_married -> categorias: ['No', 'Yes']\n",
      "\n",
      "work_type -> categorias: ['Govt_job', 'Never_worked', 'Private', 'Self-employed', 'children']\n",
      "\n",
      "Residence_type -> categorias: ['Rural', 'Urban']\n",
      "\n",
      "smoking_status -> categorias: ['Unknown', 'formerly smoked', 'never smoked', 'smokes']\n"
     ]
    }
   ],
   "source": [
    "\n",
    "# Conversões/tipos e correções simples\n",
    "# Corrigir possível typo em 'work_type' (algumas versões têm 'Govt_jov')\n",
    "if 'work_type' in df.columns:\n",
    "    df['work_type'] = df['work_type'].replace({'Govt_jov': 'Govt_job'})\n",
    "# Remover coluna id (identificador)\n",
    "if 'id' in df.columns:\n",
    "    df = df.drop(columns=['id'])\n",
    "\n",
    "# Conferir categorias presentes\n",
    "for c in ['gender','ever_married','work_type','Residence_type','smoking_status']:\n",
    "    if c in df.columns:\n",
    "        print(f\"\\n{c} -> categorias:\", sorted(df[c].astype(str).unique()))\n"
   ]
  },
  {
   "cell_type": "code",
   "execution_count": 6,
   "id": "325660e4",
   "metadata": {},
   "outputs": [
    {
     "data": {
      "image/png": "[encoded data removed]",
      "text/plain": [
       "<Figure size 640x480 with 1 Axes>"
      ]
     },
     "metadata": {},
     "output_type": "display_data"
    },
    {
     "data": {
      "image/png": "[encoded data removed]",
      "text/plain": [
       "<Figure size 640x480 with 1 Axes>"
      ]
     },
     "metadata": {},
     "output_type": "display_data"
    },
    {
     "data": {
      "image/png": "[encoded data removed]",
      "text/plain": [
       "<Figure size 640x480 with 1 Axes>"
      ]
     },
     "metadata": {},
     "output_type": "display_data"
    }
   ],
   "source": [
    "\n",
    "# Distribuições numéricas (Matplotlib)\n",
    "num_cols = [c for c in ['age','avg_glucose_level','bmi'] if c in df.columns]\n",
    "\n",
    "for c in num_cols:\n",
    "    plt.figure()\n",
    "    plt.hist(df[c].dropna().values, bins=30)\n",
    "    plt.title(f\"Histograma de {c}\")\n",
    "    plt.xlabel(c); plt.ylabel(\"Frequência\")\n",
    "    plt.show()\n"
   ]
  },
  {
   "cell_type": "code",
   "execution_count": 7,
   "id": "6158f780",
   "metadata": {},
   "outputs": [
    {
     "data": {
      "image/png": "[encoded data removed]",
      "text/plain": [
       "<Figure size 640x480 with 1 Axes>"
      ]
     },
     "metadata": {},
     "output_type": "display_data"
    },
    {
     "data": {
      "image/png": "[encoded data removed]",
      "text/plain": [
       "<Figure size 640x480 with 1 Axes>"
      ]
     },
     "metadata": {},
     "output_type": "display_data"
    },
    {
     "data": {
      "image/png": "[encoded data removed]",
      "text/plain": [
       "<Figure size 640x480 with 1 Axes>"
      ]
     },
     "metadata": {},
     "output_type": "display_data"
    },
    {
     "data": {
      "image/png": "[encoded data removed]",
      "text/plain": [
       "<Figure size 640x480 with 1 Axes>"
      ]
     },
     "metadata": {},
     "output_type": "display_data"
    },
    {
     "data": {
      "image/png": "[encoded data removed]",
      "text/plain": [
       "<Figure size 640x480 with 1 Axes>"
      ]
     },
     "metadata": {},
     "output_type": "display_data"
    }
   ],
   "source": [
    "\n",
    "# Contagens categóricas\n",
    "cat_cols = [c for c in ['gender','ever_married','work_type','Residence_type','smoking_status'] if c in df.columns]\n",
    "\n",
    "for c in cat_cols:\n",
    "    plt.figure()\n",
    "    df[c].value_counts().plot(kind=\"bar\")\n",
    "    plt.title(f\"Contagem por categoria: {c}\")\n",
    "    plt.xlabel(c); plt.ylabel(\"Contagem\")\n",
    "    plt.xticks(rotation=30, ha='right')\n",
    "    plt.tight_layout()\n",
    "    plt.show()\n"
   ]
  },
  {
   "cell_type": "code",
   "execution_count": 9,
   "id": "3e63e633",
   "metadata": {},
   "outputs": [
    {
     "data": {
      "image/png": "[encoded data removed]",
      "text/plain": [
       "<Figure size 640x480 with 1 Axes>"
      ]
     },
     "metadata": {},
     "output_type": "display_data"
    },
    {
     "data": {
      "image/png": "[encoded data removed]",
      "text/plain": [
       "<Figure size 640x480 with 1 Axes>"
      ]
     },
     "metadata": {},
     "output_type": "display_data"
    },
    {
     "data": {
      "image/png": "[encoded data removed]",
      "text/plain": [
       "<Figure size 640x480 with 1 Axes>"
      ]
     },
     "metadata": {},
     "output_type": "display_data"
    },
    {
     "data": {
      "application/vnd.microsoft.datawrangler.viewer.v0+json": {
       "columns": [
        {
         "name": "gender",
         "rawType": "object",
         "type": "string"
        },
        {
         "name": "0",
         "rawType": "float64",
         "type": "float"
        },
        {
         "name": "1",
         "rawType": "float64",
         "type": "float"
        }
       ],
       "ref": "27be193f-898f-4797-9846-b3ee1d33d64a",
       "rows": [
        [
         "Male",
         "0.948936170212766",
         "0.05106382978723404"
        ],
        [
         "Female",
         "0.9529058116232465",
         "0.047094188376753505"
        ],
        [
         "Other",
         "1.0",
         "0.0"
        ]
       ],
       "shape": {
        "columns": 2,
        "rows": 3
       }
      },
      "text/html": [
       "<div>\n",
       "<style scoped>\n",
       "    .dataframe tbody tr th:only-of-type {\n",
       "        vertical-align: middle;\n",
       "    }\n",
       "\n",
       "    .dataframe tbody tr th {\n",
       "        vertical-align: top;\n",
       "    }\n",
       "\n",
       "    .dataframe thead th {\n",
       "        text-align: right;\n",
       "    }\n",
       "</style>\n",
       "<table border=\"1\" class=\"dataframe\">\n",
       "  <thead>\n",
       "    <tr style=\"text-align: right;\">\n",
       "      <th>stroke</th>\n",
       "      <th>0</th>\n",
       "      <th>1</th>\n",
       "    </tr>\n",
       "    <tr>\n",
       "      <th>gender</th>\n",
       "      <th></th>\n",
       "      <th></th>\n",
       "    </tr>\n",
       "  </thead>\n",
       "  <tbody>\n",
       "    <tr>\n",
       "      <th>Male</th>\n",
       "      <td>0.948936</td>\n",
       "      <td>0.051064</td>\n",
       "    </tr>\n",
       "    <tr>\n",
       "      <th>Female</th>\n",
       "      <td>0.952906</td>\n",
       "      <td>0.047094</td>\n",
       "    </tr>\n",
       "    <tr>\n",
       "      <th>Other</th>\n",
       "      <td>1.000000</td>\n",
       "      <td>0.000000</td>\n",
       "    </tr>\n",
       "  </tbody>\n",
       "</table>\n",
       "</div>"
      ],
      "text/plain": [
       "stroke         0         1\n",
       "gender                    \n",
       "Male    0.948936  0.051064\n",
       "Female  0.952906  0.047094\n",
       "Other   1.000000  0.000000"
      ]
     },
     "metadata": {},
     "output_type": "display_data"
    },
    {
     "data": {
      "application/vnd.microsoft.datawrangler.viewer.v0+json": {
       "columns": [
        {
         "name": "ever_married",
         "rawType": "object",
         "type": "string"
        },
        {
         "name": "0",
         "rawType": "float64",
         "type": "float"
        },
        {
         "name": "1",
         "rawType": "float64",
         "type": "float"
        }
       ],
       "ref": "efcf93c8-50be-477c-b3ad-239823a6755f",
       "rows": [
        [
         "Yes",
         "0.9343871160155085",
         "0.0656128839844915"
        ],
        [
         "No",
         "0.983494593056346",
         "0.016505406943653957"
        ]
       ],
       "shape": {
        "columns": 2,
        "rows": 2
       }
      },
      "text/html": [
       "<div>\n",
       "<style scoped>\n",
       "    .dataframe tbody tr th:only-of-type {\n",
       "        vertical-align: middle;\n",
       "    }\n",
       "\n",
       "    .dataframe tbody tr th {\n",
       "        vertical-align: top;\n",
       "    }\n",
       "\n",
       "    .dataframe thead th {\n",
       "        text-align: right;\n",
       "    }\n",
       "</style>\n",
       "<table border=\"1\" class=\"dataframe\">\n",
       "  <thead>\n",
       "    <tr style=\"text-align: right;\">\n",
       "      <th>stroke</th>\n",
       "      <th>0</th>\n",
       "      <th>1</th>\n",
       "    </tr>\n",
       "    <tr>\n",
       "      <th>ever_married</th>\n",
       "      <th></th>\n",
       "      <th></th>\n",
       "    </tr>\n",
       "  </thead>\n",
       "  <tbody>\n",
       "    <tr>\n",
       "      <th>Yes</th>\n",
       "      <td>0.934387</td>\n",
       "      <td>0.065613</td>\n",
       "    </tr>\n",
       "    <tr>\n",
       "      <th>No</th>\n",
       "      <td>0.983495</td>\n",
       "      <td>0.016505</td>\n",
       "    </tr>\n",
       "  </tbody>\n",
       "</table>\n",
       "</div>"
      ],
      "text/plain": [
       "stroke               0         1\n",
       "ever_married                    \n",
       "Yes           0.934387  0.065613\n",
       "No            0.983495  0.016505"
      ]
     },
     "metadata": {},
     "output_type": "display_data"
    },
    {
     "data": {
      "application/vnd.microsoft.datawrangler.viewer.v0+json": {
       "columns": [
        {
         "name": "work_type",
         "rawType": "object",
         "type": "string"
        },
        {
         "name": "0",
         "rawType": "float64",
         "type": "float"
        },
        {
         "name": "1",
         "rawType": "float64",
         "type": "float"
        }
       ],
       "ref": "b6a6dcdb-bc4c-49c7-a634-964b77176602",
       "rows": [
        [
         "Self-employed",
         "0.9206349206349206",
         "0.07936507936507936"
        ],
        [
         "Private",
         "0.9490598290598291",
         "0.05094017094017094"
        ],
        [
         "Govt_job",
         "0.9497716894977168",
         "0.0502283105022831"
        ],
        [
         "children",
         "0.9970887918486172",
         "0.002911208151382824"
        ],
        [
         "Never_worked",
         "1.0",
         "0.0"
        ]
       ],
       "shape": {
        "columns": 2,
        "rows": 5
       }
      },
      "text/html": [
       "<div>\n",
       "<style scoped>\n",
       "    .dataframe tbody tr th:only-of-type {\n",
       "        vertical-align: middle;\n",
       "    }\n",
       "\n",
       "    .dataframe tbody tr th {\n",
       "        vertical-align: top;\n",
       "    }\n",
       "\n",
       "    .dataframe thead th {\n",
       "        text-align: right;\n",
       "    }\n",
       "</style>\n",
       "<table border=\"1\" class=\"dataframe\">\n",
       "  <thead>\n",
       "    <tr style=\"text-align: right;\">\n",
       "      <th>stroke</th>\n",
       "      <th>0</th>\n",
       "      <th>1</th>\n",
       "    </tr>\n",
       "    <tr>\n",
       "      <th>work_type</th>\n",
       "      <th></th>\n",
       "      <th></th>\n",
       "    </tr>\n",
       "  </thead>\n",
       "  <tbody>\n",
       "    <tr>\n",
       "      <th>Self-employed</th>\n",
       "      <td>0.920635</td>\n",
       "      <td>0.079365</td>\n",
       "    </tr>\n",
       "    <tr>\n",
       "      <th>Private</th>\n",
       "      <td>0.949060</td>\n",
       "      <td>0.050940</td>\n",
       "    </tr>\n",
       "    <tr>\n",
       "      <th>Govt_job</th>\n",
       "      <td>0.949772</td>\n",
       "      <td>0.050228</td>\n",
       "    </tr>\n",
       "    <tr>\n",
       "      <th>children</th>\n",
       "      <td>0.997089</td>\n",
       "      <td>0.002911</td>\n",
       "    </tr>\n",
       "    <tr>\n",
       "      <th>Never_worked</th>\n",
       "      <td>1.000000</td>\n",
       "      <td>0.000000</td>\n",
       "    </tr>\n",
       "  </tbody>\n",
       "</table>\n",
       "</div>"
      ],
      "text/plain": [
       "stroke                0         1\n",
       "work_type                        \n",
       "Self-employed  0.920635  0.079365\n",
       "Private        0.949060  0.050940\n",
       "Govt_job       0.949772  0.050228\n",
       "children       0.997089  0.002911\n",
       "Never_worked   1.000000  0.000000"
      ]
     },
     "metadata": {},
     "output_type": "display_data"
    },
    {
     "data": {
      "application/vnd.microsoft.datawrangler.viewer.v0+json": {
       "columns": [
        {
         "name": "Residence_type",
         "rawType": "object",
         "type": "string"
        },
        {
         "name": "0",
         "rawType": "float64",
         "type": "float"
        },
        {
         "name": "1",
         "rawType": "float64",
         "type": "float"
        }
       ],
       "ref": "8e5f3ed7-38e9-4fe7-b09a-d3160bef08c7",
       "rows": [
        [
         "Urban",
         "0.9479969183359014",
         "0.052003081664098616"
        ],
        [
         "Rural",
         "0.954653937947494",
         "0.045346062052505964"
        ]
       ],
       "shape": {
        "columns": 2,
        "rows": 2
       }
      },
      "text/html": [
       "<div>\n",
       "<style scoped>\n",
       "    .dataframe tbody tr th:only-of-type {\n",
       "        vertical-align: middle;\n",
       "    }\n",
       "\n",
       "    .dataframe tbody tr th {\n",
       "        vertical-align: top;\n",
       "    }\n",
       "\n",
       "    .dataframe thead th {\n",
       "        text-align: right;\n",
       "    }\n",
       "</style>\n",
       "<table border=\"1\" class=\"dataframe\">\n",
       "  <thead>\n",
       "    <tr style=\"text-align: right;\">\n",
       "      <th>stroke</th>\n",
       "      <th>0</th>\n",
       "      <th>1</th>\n",
       "    </tr>\n",
       "    <tr>\n",
       "      <th>Residence_type</th>\n",
       "      <th></th>\n",
       "      <th></th>\n",
       "    </tr>\n",
       "  </thead>\n",
       "  <tbody>\n",
       "    <tr>\n",
       "      <th>Urban</th>\n",
       "      <td>0.947997</td>\n",
       "      <td>0.052003</td>\n",
       "    </tr>\n",
       "    <tr>\n",
       "      <th>Rural</th>\n",
       "      <td>0.954654</td>\n",
       "      <td>0.045346</td>\n",
       "    </tr>\n",
       "  </tbody>\n",
       "</table>\n",
       "</div>"
      ],
      "text/plain": [
       "stroke                 0         1\n",
       "Residence_type                    \n",
       "Urban           0.947997  0.052003\n",
       "Rural           0.954654  0.045346"
      ]
     },
     "metadata": {},
     "output_type": "display_data"
    },
    {
     "data": {
      "application/vnd.microsoft.datawrangler.viewer.v0+json": {
       "columns": [
        {
         "name": "smoking_status",
         "rawType": "object",
         "type": "string"
        },
        {
         "name": "0",
         "rawType": "float64",
         "type": "float"
        },
        {
         "name": "1",
         "rawType": "float64",
         "type": "float"
        }
       ],
       "ref": "8d3ee283-1a09-4e0f-866e-f8e116350dff",
       "rows": [
        [
         "formerly smoked",
         "0.9209039548022598",
         "0.07909604519774012"
        ],
        [
         "smokes",
         "0.9467680608365019",
         "0.053231939163498096"
        ],
        [
         "never smoked",
         "0.952431289640592",
         "0.04756871035940803"
        ],
        [
         "Unknown",
         "0.969559585492228",
         "0.03044041450777202"
        ]
       ],
       "shape": {
        "columns": 2,
        "rows": 4
       }
      },
      "text/html": [
       "<div>\n",
       "<style scoped>\n",
       "    .dataframe tbody tr th:only-of-type {\n",
       "        vertical-align: middle;\n",
       "    }\n",
       "\n",
       "    .dataframe tbody tr th {\n",
       "        vertical-align: top;\n",
       "    }\n",
       "\n",
       "    .dataframe thead th {\n",
       "        text-align: right;\n",
       "    }\n",
       "</style>\n",
       "<table border=\"1\" class=\"dataframe\">\n",
       "  <thead>\n",
       "    <tr style=\"text-align: right;\">\n",
       "      <th>stroke</th>\n",
       "      <th>0</th>\n",
       "      <th>1</th>\n",
       "    </tr>\n",
       "    <tr>\n",
       "      <th>smoking_status</th>\n",
       "      <th></th>\n",
       "      <th></th>\n",
       "    </tr>\n",
       "  </thead>\n",
       "  <tbody>\n",
       "    <tr>\n",
       "      <th>formerly smoked</th>\n",
       "      <td>0.920904</td>\n",
       "      <td>0.079096</td>\n",
       "    </tr>\n",
       "    <tr>\n",
       "      <th>smokes</th>\n",
       "      <td>0.946768</td>\n",
       "      <td>0.053232</td>\n",
       "    </tr>\n",
       "    <tr>\n",
       "      <th>never smoked</th>\n",
       "      <td>0.952431</td>\n",
       "      <td>0.047569</td>\n",
       "    </tr>\n",
       "    <tr>\n",
       "      <th>Unknown</th>\n",
       "      <td>0.969560</td>\n",
       "      <td>0.030440</td>\n",
       "    </tr>\n",
       "  </tbody>\n",
       "</table>\n",
       "</div>"
      ],
      "text/plain": [
       "stroke                  0         1\n",
       "smoking_status                     \n",
       "formerly smoked  0.920904  0.079096\n",
       "smokes           0.946768  0.053232\n",
       "never smoked     0.952431  0.047569\n",
       "Unknown          0.969560  0.030440"
      ]
     },
     "metadata": {},
     "output_type": "display_data"
    }
   ],
   "source": [
    "\n",
    "# Relação com o alvo\n",
    "target = 'stroke'\n",
    "assert target in df.columns, \"Coluna 'stroke' não encontrada no CSV.\"\n",
    "\n",
    "# Boxplots para numéricos por classe do alvo\n",
    "for c in num_cols:\n",
    "    plt.figure()\n",
    "    # Boxplot manual: dividir por classe\n",
    "    data0 = df[df[target]==0][c].dropna().values\n",
    "    data1 = df[df[target]==1][c].dropna().values\n",
    "    plt.boxplot([data0, data1], tick_labels=['stroke=0','stroke=1'])\n",
    "    plt.title(f\"{c} por classe de stroke\")\n",
    "    plt.ylabel(c)\n",
    "    plt.show()\n",
    "\n",
    "# Tabelas de proporção para categóricas\n",
    "for c in cat_cols:\n",
    "    ct = pd.crosstab(df[c], df[target], normalize='index')\n",
    "    display(ct.sort_values(by=1, ascending=False).head(10))\n"
   ]
  },
  {
   "cell_type": "code",
   "execution_count": 10,
   "id": "6872e30b",
   "metadata": {},
   "outputs": [
    {
     "data": {
      "application/vnd.microsoft.datawrangler.viewer.v0+json": {
       "columns": [
        {
         "name": "index",
         "rawType": "object",
         "type": "string"
        },
        {
         "name": "stroke",
         "rawType": "float64",
         "type": "float"
        },
        {
         "name": "age",
         "rawType": "float64",
         "type": "float"
        },
        {
         "name": "avg_glucose_level",
         "rawType": "float64",
         "type": "float"
        },
        {
         "name": "bmi",
         "rawType": "float64",
         "type": "float"
        },
        {
         "name": "hypertension",
         "rawType": "float64",
         "type": "float"
        },
        {
         "name": "heart_disease",
         "rawType": "float64",
         "type": "float"
        }
       ],
       "ref": "c55e18c4-54a8-4790-8b6b-c0630f0da7d6",
       "rows": [
        [
         "stroke",
         "1.0",
         "0.24525734617097422",
         "0.13194544082570953",
         "0.0423736611492331",
         "0.1279038234664801",
         "0.13491399696869255"
        ],
        [
         "age",
         "0.24525734617097422",
         "1.0",
         "0.2381711141017428",
         "0.3333979951604398",
         "0.27639762763497583",
         "0.2637959156046759"
        ],
        [
         "avg_glucose_level",
         "0.13194544082570953",
         "0.2381711141017428",
         "1.0",
         "0.17550217613626057",
         "0.17447381058363234",
         "0.16185733226966803"
        ],
        [
         "bmi",
         "0.0423736611492331",
         "0.3333979951604398",
         "0.17550217613626057",
         "1.0",
         "0.1678105844384782",
         "0.04135744287272012"
        ],
        [
         "hypertension",
         "0.1279038234664801",
         "0.27639762763497583",
         "0.17447381058363234",
         "0.1678105844384782",
         "1.0",
         "0.10830607646089001"
        ],
        [
         "heart_disease",
         "0.13491399696869255",
         "0.2637959156046759",
         "0.16185733226966803",
         "0.04135744287272012",
         "0.10830607646089001",
         "1.0"
        ]
       ],
       "shape": {
        "columns": 6,
        "rows": 6
       }
      },
      "text/html": [
       "<div>\n",
       "<style scoped>\n",
       "    .dataframe tbody tr th:only-of-type {\n",
       "        vertical-align: middle;\n",
       "    }\n",
       "\n",
       "    .dataframe tbody tr th {\n",
       "        vertical-align: top;\n",
       "    }\n",
       "\n",
       "    .dataframe thead th {\n",
       "        text-align: right;\n",
       "    }\n",
       "</style>\n",
       "<table border=\"1\" class=\"dataframe\">\n",
       "  <thead>\n",
       "    <tr style=\"text-align: right;\">\n",
       "      <th></th>\n",
       "      <th>stroke</th>\n",
       "      <th>age</th>\n",
       "      <th>avg_glucose_level</th>\n",
       "      <th>bmi</th>\n",
       "      <th>hypertension</th>\n",
       "      <th>heart_disease</th>\n",
       "    </tr>\n",
       "  </thead>\n",
       "  <tbody>\n",
       "    <tr>\n",
       "      <th>stroke</th>\n",
       "      <td>1.000000</td>\n",
       "      <td>0.245257</td>\n",
       "      <td>0.131945</td>\n",
       "      <td>0.042374</td>\n",
       "      <td>0.127904</td>\n",
       "      <td>0.134914</td>\n",
       "    </tr>\n",
       "    <tr>\n",
       "      <th>age</th>\n",
       "      <td>0.245257</td>\n",
       "      <td>1.000000</td>\n",
       "      <td>0.238171</td>\n",
       "      <td>0.333398</td>\n",
       "      <td>0.276398</td>\n",
       "      <td>0.263796</td>\n",
       "    </tr>\n",
       "    <tr>\n",
       "      <th>avg_glucose_level</th>\n",
       "      <td>0.131945</td>\n",
       "      <td>0.238171</td>\n",
       "      <td>1.000000</td>\n",
       "      <td>0.175502</td>\n",
       "      <td>0.174474</td>\n",
       "      <td>0.161857</td>\n",
       "    </tr>\n",
       "    <tr>\n",
       "      <th>bmi</th>\n",
       "      <td>0.042374</td>\n",
       "      <td>0.333398</td>\n",
       "      <td>0.175502</td>\n",
       "      <td>1.000000</td>\n",
       "      <td>0.167811</td>\n",
       "      <td>0.041357</td>\n",
       "    </tr>\n",
       "    <tr>\n",
       "      <th>hypertension</th>\n",
       "      <td>0.127904</td>\n",
       "      <td>0.276398</td>\n",
       "      <td>0.174474</td>\n",
       "      <td>0.167811</td>\n",
       "      <td>1.000000</td>\n",
       "      <td>0.108306</td>\n",
       "    </tr>\n",
       "    <tr>\n",
       "      <th>heart_disease</th>\n",
       "      <td>0.134914</td>\n",
       "      <td>0.263796</td>\n",
       "      <td>0.161857</td>\n",
       "      <td>0.041357</td>\n",
       "      <td>0.108306</td>\n",
       "      <td>1.000000</td>\n",
       "    </tr>\n",
       "  </tbody>\n",
       "</table>\n",
       "</div>"
      ],
      "text/plain": [
       "                     stroke       age  avg_glucose_level       bmi  \\\n",
       "stroke             1.000000  0.245257           0.131945  0.042374   \n",
       "age                0.245257  1.000000           0.238171  0.333398   \n",
       "avg_glucose_level  0.131945  0.238171           1.000000  0.175502   \n",
       "bmi                0.042374  0.333398           0.175502  1.000000   \n",
       "hypertension       0.127904  0.276398           0.174474  0.167811   \n",
       "heart_disease      0.134914  0.263796           0.161857  0.041357   \n",
       "\n",
       "                   hypertension  heart_disease  \n",
       "stroke                 0.127904       0.134914  \n",
       "age                    0.276398       0.263796  \n",
       "avg_glucose_level      0.174474       0.161857  \n",
       "bmi                    0.167811       0.041357  \n",
       "hypertension           1.000000       0.108306  \n",
       "heart_disease          0.108306       1.000000  "
      ]
     },
     "metadata": {},
     "output_type": "display_data"
    },
    {
     "data": {
      "image/png": "[encoded data removed]",
      "text/plain": [
       "<Figure size 500x400 with 2 Axes>"
      ]
     },
     "metadata": {},
     "output_type": "display_data"
    }
   ],
   "source": [
    "\n",
    "# Correlações principais (com variáveis binárias relevantes)\n",
    "cols_corr = [col for col in ['stroke','age','avg_glucose_level','bmi','hypertension','heart_disease'] if col in df.columns]\n",
    "corr = df[cols_corr].corr(numeric_only=True)\n",
    "display(corr)\n",
    "\n",
    "plt.figure(figsize=(5,4))\n",
    "plt.imshow(corr, cmap='viridis', aspect='auto')\n",
    "plt.colorbar(label='Correlação')\n",
    "plt.xticks(range(len(cols_corr)), cols_corr, rotation=45, ha='right')\n",
    "plt.yticks(range(len(cols_corr)), cols_corr)\n",
    "plt.title(\"Mapa de Correlação (subset)\")\n",
    "plt.tight_layout()\n",
    "plt.show()\n"
   ]
  },
  {
   "cell_type": "markdown",
   "id": "c36301a8",
   "metadata": {},
   "source": [
    "## 5) Processamento dos Dados e Split"
   ]
  },
  {
   "cell_type": "code",
   "execution_count": 11,
   "id": "9c800fa9",
   "metadata": {},
   "outputs": [
    {
     "name": "stdout",
     "output_type": "stream",
     "text": [
      "Tamanhos: (3577, 10) (766, 10) (767, 10)\n"
     ]
    }
   ],
   "source": [
    "\n",
    "# Definição de colunas\n",
    "all_cols = df.columns.tolist()\n",
    "target = 'stroke'\n",
    "feature_cols = [c for c in all_cols if c != target]\n",
    "\n",
    "num_cols = [c for c in ['age','avg_glucose_level','bmi'] if c in feature_cols]\n",
    "bin_cols = [c for c in ['hypertension','heart_disease'] if c in feature_cols]\n",
    "cat_cols = [c for c in ['gender','ever_married','work_type','Residence_type','smoking_status']\n",
    "            if c in feature_cols]\n",
    "\n",
    "X = df[feature_cols].copy()\n",
    "y = df[target].astype(int).copy()\n",
    "\n",
    "# Splits estratificados\n",
    "X_train, X_temp, y_train, y_temp = train_test_split(\n",
    "    X, y, test_size=0.30, stratify=y, random_state=SEED\n",
    ")\n",
    "X_valid, X_test, y_valid, y_test = train_test_split(\n",
    "    X_temp, y_temp, test_size=0.50, stratify=y_temp, random_state=SEED\n",
    ")\n",
    "\n",
    "print(\"Tamanhos:\", X_train.shape, X_valid.shape, X_test.shape)\n",
    "\n",
    "# Transformadores\n",
    "numeric_tf = ImbPipeline(steps=[\n",
    "    ('imputer', SimpleImputer(strategy='median')),\n",
    "    ('scaler',  StandardScaler())\n",
    "])\n",
    "\n",
    "# OneHotEncoder compatível com diferentes versões do sklearn\n",
    "try:\n",
    "    categorical_tf = ImbPipeline(steps=[\n",
    "        ('imputer', SimpleImputer(strategy='most_frequent')),\n",
    "        ('onehot',  OneHotEncoder(handle_unknown='ignore', sparse_output=False))\n",
    "    ])\n",
    "except TypeError:\n",
    "    categorical_tf = ImbPipeline(steps=[\n",
    "        ('imputer', SimpleImputer(strategy='most_frequent')),\n",
    "        ('onehot',  OneHotEncoder(handle_unknown='ignore', sparse=False))\n",
    "    ])\n",
    "\n",
    "preprocess = ColumnTransformer(transformers=[\n",
    "    ('num', numeric_tf, num_cols),\n",
    "    ('cat', categorical_tf, cat_cols),\n",
    "    ('passthrough', 'passthrough', bin_cols)\n",
    "])\n",
    "\n",
    "# Salvar splits (opcional)\n",
    "X_train.assign(stroke=y_train.values).to_csv(PROC_PATH / \"train.csv\", index=False)\n",
    "X_valid.assign(stroke=y_valid.values).to_csv(PROC_PATH / \"valid.csv\", index=False)\n",
    "X_test.assign(stroke=y_test.values).to_csv(PROC_PATH / \"test.csv\", index=False)\n"
   ]
  },
  {
   "cell_type": "markdown",
   "id": "e1a8b785",
   "metadata": {},
   "source": [
    "## 6) Modelagem — Baselines e Modelos Principais"
   ]
  },
  {
   "cell_type": "code",
   "execution_count": 12,
   "id": "c132710a",
   "metadata": {},
   "outputs": [
    {
     "name": "stderr",
     "output_type": "stream",
     "text": [
      "c:\\Users\\argus\\workspace\\StrokePrediction\\.venv\\Lib\\site-packages\\sklearn\\metrics\\_classification.py:1731: UndefinedMetricWarning: Precision is ill-defined and being set to 0.0 in labels with no predicted samples. Use `zero_division` parameter to control this behavior.\n",
      "  _warn_prf(average, modifier, f\"{metric.capitalize()} is\", result.shape[0])\n",
      "c:\\Users\\argus\\workspace\\StrokePrediction\\.venv\\Lib\\site-packages\\sklearn\\metrics\\_classification.py:1731: UndefinedMetricWarning: Precision is ill-defined and being set to 0.0 in labels with no predicted samples. Use `zero_division` parameter to control this behavior.\n",
      "  _warn_prf(average, modifier, f\"{metric.capitalize()} is\", result.shape[0])\n",
      "c:\\Users\\argus\\workspace\\StrokePrediction\\.venv\\Lib\\site-packages\\sklearn\\metrics\\_classification.py:1731: UndefinedMetricWarning: Precision is ill-defined and being set to 0.0 in labels with no predicted samples. Use `zero_division` parameter to control this behavior.\n",
      "  _warn_prf(average, modifier, f\"{metric.capitalize()} is\", result.shape[0])\n",
      "c:\\Users\\argus\\workspace\\StrokePrediction\\.venv\\Lib\\site-packages\\sklearn\\metrics\\_classification.py:1731: UndefinedMetricWarning: Precision is ill-defined and being set to 0.0 in labels with no predicted samples. Use `zero_division` parameter to control this behavior.\n",
      "  _warn_prf(average, modifier, f\"{metric.capitalize()} is\", result.shape[0])\n",
      "c:\\Users\\argus\\workspace\\StrokePrediction\\.venv\\Lib\\site-packages\\sklearn\\metrics\\_classification.py:1731: UndefinedMetricWarning: Precision is ill-defined and being set to 0.0 in labels with no predicted samples. Use `zero_division` parameter to control this behavior.\n",
      "  _warn_prf(average, modifier, f\"{metric.capitalize()} is\", result.shape[0])\n",
      "c:\\Users\\argus\\workspace\\StrokePrediction\\.venv\\Lib\\site-packages\\sklearn\\metrics\\_classification.py:1731: UndefinedMetricWarning: Precision is ill-defined and being set to 0.0 in labels with no predicted samples. Use `zero_division` parameter to control this behavior.\n",
      "  _warn_prf(average, modifier, f\"{metric.capitalize()} is\", result.shape[0])\n"
     ]
    },
    {
     "name": "stdout",
     "output_type": "stream",
     "text": [
      "[Dummy] ROC-AUC: 0.5000 | PR-AUC: 0.0483\n",
      "              precision    recall  f1-score   support\n",
      "\n",
      "           0      0.952     1.000     0.975       729\n",
      "           1      0.000     0.000     0.000        37\n",
      "\n",
      "    accuracy                          0.952       766\n",
      "   macro avg      0.476     0.500     0.488       766\n",
      "weighted avg      0.906     0.952     0.928       766\n",
      "\n",
      "[LogReg + SMOTE] ROC-AUC: 0.8445 | PR-AUC: 0.3096\n",
      "              precision    recall  f1-score   support\n",
      "\n",
      "           0      0.984     0.742     0.846       729\n",
      "           1      0.130     0.757     0.221        37\n",
      "\n",
      "    accuracy                          0.743       766\n",
      "   macro avg      0.557     0.749     0.534       766\n",
      "weighted avg      0.942     0.743     0.816       766\n",
      "\n",
      "[RandomForest] ROC-AUC: 0.8062 | PR-AUC: 0.1342\n",
      "              precision    recall  f1-score   support\n",
      "\n",
      "           0      0.952     0.997     0.974       729\n",
      "           1      0.000     0.000     0.000        37\n",
      "\n",
      "    accuracy                          0.949       766\n",
      "   macro avg      0.476     0.499     0.487       766\n",
      "weighted avg      0.906     0.949     0.927       766\n",
      "\n"
     ]
    }
   ],
   "source": [
    "\n",
    "def eval_model(name, model, X_tr=X_train, y_tr=y_train, X_va=X_valid, y_va=y_valid, threshold=0.5):\n",
    "    model.fit(X_tr, y_tr)\n",
    "    if hasattr(model, \"predict_proba\"):\n",
    "        proba = model.predict_proba(X_va)[:,1]\n",
    "    else:\n",
    "        # fallback para decision_function se disponível\n",
    "        if hasattr(model, \"decision_function\"):\n",
    "            from sklearn.preprocessing import MinMaxScaler\n",
    "            scores = model.decision_function(X_va).reshape(-1,1)\n",
    "            proba = MinMaxScaler().fit_transform(scores).ravel()\n",
    "        else:\n",
    "            # último recurso: usar previsões como \"probabilidade\"\n",
    "            proba = model.predict(X_va).astype(float)\n",
    "    preds = (proba >= threshold).astype(int)\n",
    "    out = {\n",
    "        \"roc_auc\": float(roc_auc_score(y_va, proba)),\n",
    "        \"pr_auc\": float(average_precision_score(y_va, proba)),\n",
    "        \"report\": classification_report(y_va, preds, digits=3, output_dict=True)\n",
    "    }\n",
    "    print(f\"[{name}] ROC-AUC: {out['roc_auc']:.4f} | PR-AUC: {out['pr_auc']:.4f}\")\n",
    "    print(classification_report(y_va, preds, digits=3))\n",
    "    return out, proba\n",
    "\n",
    "# Dummy (baseline de referência)\n",
    "dummy = ImbPipeline(steps=[\n",
    "    ('prep', preprocess),\n",
    "    ('clf', DummyClassifier(strategy='most_frequent'))\n",
    "])\n",
    "_ , _ = eval_model(\"Dummy\", dummy)\n",
    "\n",
    "# Regressão Logística com SMOTE + class_weight\n",
    "logreg = ImbPipeline(steps=[\n",
    "    ('prep', preprocess),\n",
    "    ('smote', SMOTE(random_state=SEED)),\n",
    "    ('clf', LogisticRegression(max_iter=500, class_weight='balanced', n_jobs=None))\n",
    "])\n",
    "log_out, log_proba = eval_model(\"LogReg + SMOTE\", logreg)\n",
    "\n",
    "# Random Forest (sem SMOTE; usa class_weight)\n",
    "rf = ImbPipeline(steps=[\n",
    "    ('prep', preprocess),\n",
    "    ('clf', RandomForestClassifier(\n",
    "        n_estimators=400, random_state=SEED, class_weight='balanced_subsample'\n",
    "    ))\n",
    "])\n",
    "rf_out, rf_proba = eval_model(\"RandomForest\", rf)\n"
   ]
  },
  {
   "cell_type": "code",
   "execution_count": 13,
   "id": "e364ba9f",
   "metadata": {},
   "outputs": [
    {
     "name": "stdout",
     "output_type": "stream",
     "text": [
      "[LogReg+SMOTE] ROC-AUC: 0.8445 | PR-AUC: 0.3096\n",
      "              precision    recall  f1-score   support\n",
      "\n",
      "           0      0.984     0.742     0.846       729\n",
      "           1      0.130     0.757     0.221        37\n",
      "\n",
      "    accuracy                          0.743       766\n",
      "   macro avg      0.557     0.749     0.534       766\n",
      "weighted avg      0.942     0.743     0.816       766\n",
      "\n",
      "[RandomForest] ROC-AUC: 0.8062 | PR-AUC: 0.1342\n",
      "              precision    recall  f1-score   support\n",
      "\n",
      "           0      0.952     0.997     0.974       729\n",
      "           1      0.000     0.000     0.000        37\n",
      "\n",
      "    accuracy                          0.949       766\n",
      "   macro avg      0.476     0.499     0.487       766\n",
      "weighted avg      0.906     0.949     0.927       766\n",
      "\n",
      "\n",
      "Modelo base escolhido (val PR-AUC): LogReg+SMOTE (0.3096)\n",
      "Mantendo o modelo LogReg+SMOTE como campeão base.\n"
     ]
    }
   ],
   "source": [
    "\n",
    "# Selecionar o melhor por PR-AUC (AUC-PR é mais informativa em classes raras)\n",
    "best_name, best_model, best_pr = None, None, -1.0\n",
    "candidates = [(\"LogReg+SMOTE\", logreg), (\"RandomForest\", rf)]\n",
    "for name, mdl in candidates:\n",
    "    out, _ = eval_model(name, mdl)\n",
    "    if out[\"pr_auc\"] > best_pr:\n",
    "        best_name, best_model, best_pr = name, mdl, out[\"pr_auc\"]\n",
    "\n",
    "print(f\"\\nModelo base escolhido (val PR-AUC): {best_name} ({best_pr:.4f})\")\n",
    "\n",
    "# Se o escolhido for RandomForest, vamos fazer uma RandomizedSearchCV para melhorar\n",
    "use_search = isinstance(best_model.named_steps.get('clf'), RandomForestClassifier)\n",
    "\n",
    "if use_search:\n",
    "    cv = StratifiedKFold(n_splits=5, shuffle=True, random_state=SEED)\n",
    "    param_rf = {\n",
    "        'clf__n_estimators': randint(200, 700),\n",
    "        'clf__max_depth': randint(3, 18),\n",
    "        'clf__min_samples_split': randint(2, 20)\n",
    "    }\n",
    "    rf_cv = ImbPipeline(steps=[('prep', preprocess),\n",
    "                               ('clf', RandomForestClassifier(random_state=SEED, class_weight='balanced_subsample'))])\n",
    "\n",
    "    search = RandomizedSearchCV(\n",
    "        rf_cv, param_rf, n_iter=25, scoring='average_precision', cv=cv, n_jobs=-1, random_state=SEED, verbose=1\n",
    "    )\n",
    "    search.fit(X_train, y_train)\n",
    "    best_model = search.best_estimator_\n",
    "    print(\"Melhores hiperparâmetros:\", search.best_params_)\n",
    "else:\n",
    "    print(\"Mantendo o modelo LogReg+SMOTE como campeão base.\")\n"
   ]
  },
  {
   "cell_type": "markdown",
   "id": "5c945aa6",
   "metadata": {},
   "source": [
    "### 6.1 Otimização de Threshold (decisão)"
   ]
  },
  {
   "cell_type": "code",
   "execution_count": 14,
   "id": "2ebd5ec2",
   "metadata": {},
   "outputs": [
    {
     "ename": "IndexError",
     "evalue": "boolean index did not match indexed array along axis 0; size of axis is 766 but size of corresponding boolean axis is 767",
     "output_type": "error",
     "traceback": [
      "\u001b[31m---------------------------------------------------------------------------\u001b[39m",
      "\u001b[31mIndexError\u001b[39m                                Traceback (most recent call last)",
      "\u001b[36mCell\u001b[39m\u001b[36m \u001b[39m\u001b[32mIn[14]\u001b[39m\u001b[32m, line 12\u001b[39m\n\u001b[32m     10\u001b[39m \u001b[38;5;66;03m# Estratégia 2: recall mínimo de 0.60 + maior precisão possível\u001b[39;00m\n\u001b[32m     11\u001b[39m mask = rec >= \u001b[32m0.60\u001b[39m\n\u001b[32m---> \u001b[39m\u001b[32m12\u001b[39m best_thr_recall = \u001b[43mthr\u001b[49m\u001b[43m[\u001b[49m\u001b[43mmask\u001b[49m\u001b[43m]\u001b[49m[np.argmax(prec[mask])] \u001b[38;5;28;01mif\u001b[39;00m np.any(mask) \u001b[38;5;28;01melse\u001b[39;00m best_thr_f1\n\u001b[32m     14\u001b[39m best_thr = \u001b[38;5;28mfloat\u001b[39m(best_thr_recall)\n\u001b[32m     15\u001b[39m \u001b[38;5;28mprint\u001b[39m(\u001b[33m\"\u001b[39m\u001b[33mThreshold (F1):\u001b[39m\u001b[33m\"\u001b[39m, \u001b[38;5;28mround\u001b[39m(\u001b[38;5;28mfloat\u001b[39m(best_thr_f1), \u001b[32m4\u001b[39m))\n",
      "\u001b[31mIndexError\u001b[39m: boolean index did not match indexed array along axis 0; size of axis is 766 but size of corresponding boolean axis is 767"
     ]
    }
   ],
   "source": [
    "\n",
    "# Escolher limiar que maximize F1 na validação (ou garanta recall mínimo)\n",
    "proba_valid = best_model.predict_proba(X_valid)[:,1]\n",
    "prec, rec, thr = precision_recall_curve(y_valid, proba_valid)\n",
    "\n",
    "# Estratégia 1: threshold que maximiza F1\n",
    "f1 = (2 * prec * rec) / (prec + rec + 1e-12)\n",
    "best_idx = np.nanargmax(f1)\n",
    "best_thr_f1 = thr[best_idx-1] if best_idx > 0 and best_idx-1 < len(thr) else 0.5\n",
    "\n",
    "# Estratégia 2: recall mínimo de 0.60 + maior precisão possível\n",
    "mask = rec >= 0.60\n",
    "best_thr_recall = thr[mask][np.argmax(prec[mask])] if np.any(mask) else best_thr_f1\n",
    "\n",
    "best_thr = float(best_thr_recall)\n",
    "print(\"Threshold (F1):\", round(float(best_thr_f1), 4))\n",
    "print(\"Threshold (rec>=0.60):\", round(float(best_thr_recall), 4))\n",
    "print(\"Threshold escolhido:\", round(best_thr, 4))\n"
   ]
  },
  {
   "cell_type": "markdown",
   "id": "61d9e3bc",
   "metadata": {},
   "source": [
    "### 6.2 Interpretabilidade — Importâncias (árvore/permutação)"
   ]
  },
  {
   "cell_type": "code",
   "execution_count": 15,
   "id": "44e825ab",
   "metadata": {},
   "outputs": [
    {
     "ename": "ValueError",
     "evalue": "Length of values (10) does not match length of index (21)",
     "output_type": "error",
     "traceback": [
      "\u001b[31m---------------------------------------------------------------------------\u001b[39m",
      "\u001b[31mValueError\u001b[39m                                Traceback (most recent call last)",
      "\u001b[36mCell\u001b[39m\u001b[36m \u001b[39m\u001b[32mIn[15]\u001b[39m\u001b[32m, line 14\u001b[39m\n\u001b[32m     10\u001b[39m \u001b[38;5;28;01mexcept\u001b[39;00m \u001b[38;5;167;01mException\u001b[39;00m \u001b[38;5;28;01mas\u001b[39;00m e:\n\u001b[32m     11\u001b[39m     \u001b[38;5;66;03m# fallback: índices\u001b[39;00m\n\u001b[32m     12\u001b[39m     feat_names = [\u001b[33mf\u001b[39m\u001b[33m\"\u001b[39m\u001b[33mfeat_\u001b[39m\u001b[38;5;132;01m{\u001b[39;00mi\u001b[38;5;132;01m}\u001b[39;00m\u001b[33m\"\u001b[39m \u001b[38;5;28;01mfor\u001b[39;00m i \u001b[38;5;129;01min\u001b[39;00m \u001b[38;5;28mrange\u001b[39m(\u001b[38;5;28mlen\u001b[39m(result.importances_mean))]\n\u001b[32m---> \u001b[39m\u001b[32m14\u001b[39m imp_series = \u001b[43mpd\u001b[49m\u001b[43m.\u001b[49m\u001b[43mSeries\u001b[49m\u001b[43m(\u001b[49m\u001b[43mresult\u001b[49m\u001b[43m.\u001b[49m\u001b[43mimportances_mean\u001b[49m\u001b[43m,\u001b[49m\u001b[43m \u001b[49m\u001b[43mindex\u001b[49m\u001b[43m=\u001b[49m\u001b[43mfeat_names\u001b[49m\u001b[43m)\u001b[49m.sort_values(ascending=\u001b[38;5;28;01mFalse\u001b[39;00m)\n\u001b[32m     15\u001b[39m display(imp_series.head(\u001b[32m15\u001b[39m))\n\u001b[32m     17\u001b[39m plt.figure(figsize=(\u001b[32m8\u001b[39m,\u001b[32m5\u001b[39m))\n",
      "\u001b[36mFile \u001b[39m\u001b[32mc:\\Users\\argus\\workspace\\StrokePrediction\\.venv\\Lib\\site-packages\\pandas\\core\\series.py:578\u001b[39m, in \u001b[36mSeries.__init__\u001b[39m\u001b[34m(self, data, index, dtype, name, copy, fastpath)\u001b[39m\n\u001b[32m    576\u001b[39m     index = default_index(\u001b[38;5;28mlen\u001b[39m(data))\n\u001b[32m    577\u001b[39m \u001b[38;5;28;01melif\u001b[39;00m is_list_like(data):\n\u001b[32m--> \u001b[39m\u001b[32m578\u001b[39m     \u001b[43mcom\u001b[49m\u001b[43m.\u001b[49m\u001b[43mrequire_length_match\u001b[49m\u001b[43m(\u001b[49m\u001b[43mdata\u001b[49m\u001b[43m,\u001b[49m\u001b[43m \u001b[49m\u001b[43mindex\u001b[49m\u001b[43m)\u001b[49m\n\u001b[32m    580\u001b[39m \u001b[38;5;66;03m# create/copy the manager\u001b[39;00m\n\u001b[32m    581\u001b[39m \u001b[38;5;28;01mif\u001b[39;00m \u001b[38;5;28misinstance\u001b[39m(data, (SingleBlockManager, SingleArrayManager)):\n",
      "\u001b[36mFile \u001b[39m\u001b[32mc:\\Users\\argus\\workspace\\StrokePrediction\\.venv\\Lib\\site-packages\\pandas\\core\\common.py:573\u001b[39m, in \u001b[36mrequire_length_match\u001b[39m\u001b[34m(data, index)\u001b[39m\n\u001b[32m    569\u001b[39m \u001b[38;5;250m\u001b[39m\u001b[33;03m\"\"\"\u001b[39;00m\n\u001b[32m    570\u001b[39m \u001b[33;03mCheck the length of data matches the length of the index.\u001b[39;00m\n\u001b[32m    571\u001b[39m \u001b[33;03m\"\"\"\u001b[39;00m\n\u001b[32m    572\u001b[39m \u001b[38;5;28;01mif\u001b[39;00m \u001b[38;5;28mlen\u001b[39m(data) != \u001b[38;5;28mlen\u001b[39m(index):\n\u001b[32m--> \u001b[39m\u001b[32m573\u001b[39m     \u001b[38;5;28;01mraise\u001b[39;00m \u001b[38;5;167;01mValueError\u001b[39;00m(\n\u001b[32m    574\u001b[39m         \u001b[33m\"\u001b[39m\u001b[33mLength of values \u001b[39m\u001b[33m\"\u001b[39m\n\u001b[32m    575\u001b[39m         \u001b[33mf\u001b[39m\u001b[33m\"\u001b[39m\u001b[33m(\u001b[39m\u001b[38;5;132;01m{\u001b[39;00m\u001b[38;5;28mlen\u001b[39m(data)\u001b[38;5;132;01m}\u001b[39;00m\u001b[33m) \u001b[39m\u001b[33m\"\u001b[39m\n\u001b[32m    576\u001b[39m         \u001b[33m\"\u001b[39m\u001b[33mdoes not match length of index \u001b[39m\u001b[33m\"\u001b[39m\n\u001b[32m    577\u001b[39m         \u001b[33mf\u001b[39m\u001b[33m\"\u001b[39m\u001b[33m(\u001b[39m\u001b[38;5;132;01m{\u001b[39;00m\u001b[38;5;28mlen\u001b[39m(index)\u001b[38;5;132;01m}\u001b[39;00m\u001b[33m)\u001b[39m\u001b[33m\"\u001b[39m\n\u001b[32m    578\u001b[39m     )\n",
      "\u001b[31mValueError\u001b[39m: Length of values (10) does not match length of index (21)"
     ]
    }
   ],
   "source": [
    "\n",
    "# Importância por permutação no conjunto de validação\n",
    "result = permutation_importance(best_model, X_valid, y_valid, n_repeats=10, random_state=SEED)\n",
    "# Tentar recuperar nomes das features do preprocessador\n",
    "try:\n",
    "    prep = best_model.named_steps['prep']\n",
    "    # pegar OneHotEncoder para extrair nomes das categorias\n",
    "    onehot = prep.named_transformers_['cat'].named_steps['onehot']\n",
    "    ohe_names = list(onehot.get_feature_names_out(prep.transformers_[1][2]))  # cat_cols\n",
    "    feat_names = list(prep.transformers_[0][2]) + ohe_names + list(prep.transformers_[2][2])  # num + ohe + bin\n",
    "except Exception as e:\n",
    "    # fallback: índices\n",
    "    feat_names = [f\"feat_{i}\" for i in range(len(result.importances_mean))]\n",
    "\n",
    "imp_series = pd.Series(result.importances_mean, index=feat_names).sort_values(ascending=False)\n",
    "display(imp_series.head(15))\n",
    "\n",
    "plt.figure(figsize=(8,5))\n",
    "imp_series.head(15).iloc[::-1].plot(kind=\"barh\")\n",
    "plt.title(\"Top 15 - Importância por permutação\")\n",
    "plt.tight_layout()\n",
    "plt.show()\n"
   ]
  },
  {
   "cell_type": "markdown",
   "id": "0477095a",
   "metadata": {},
   "source": [
    "## 7) Avaliação Final no Conjunto de Teste"
   ]
  },
  {
   "cell_type": "code",
   "execution_count": 16,
   "id": "3df31229",
   "metadata": {},
   "outputs": [
    {
     "ename": "NameError",
     "evalue": "name 'best_thr' is not defined",
     "output_type": "error",
     "traceback": [
      "\u001b[31m---------------------------------------------------------------------------\u001b[39m",
      "\u001b[31mNameError\u001b[39m                                 Traceback (most recent call last)",
      "\u001b[36mCell\u001b[39m\u001b[36m \u001b[39m\u001b[32mIn[16]\u001b[39m\u001b[32m, line 13\u001b[39m\n\u001b[32m     10\u001b[39m     plt.title(\u001b[33m\"\u001b[39m\u001b[33mMatriz de Confusão (Teste)\u001b[39m\u001b[33m\"\u001b[39m)\n\u001b[32m     11\u001b[39m     plt.show()\n\u001b[32m---> \u001b[39m\u001b[32m13\u001b[39m evaluate_on_test(best_model, threshold=\u001b[43mbest_thr\u001b[49m)\n\u001b[32m     15\u001b[39m \u001b[38;5;66;03m# Métricas por subgrupos simples (fairness exploratório)\u001b[39;00m\n\u001b[32m     16\u001b[39m \u001b[38;5;28;01mfor\u001b[39;00m grp \u001b[38;5;129;01min\u001b[39;00m [c \u001b[38;5;28;01mfor\u001b[39;00m c \u001b[38;5;129;01min\u001b[39;00m [\u001b[33m'\u001b[39m\u001b[33mgender\u001b[39m\u001b[33m'\u001b[39m,\u001b[33m'\u001b[39m\u001b[33mResidence_type\u001b[39m\u001b[33m'\u001b[39m] \u001b[38;5;28;01mif\u001b[39;00m c \u001b[38;5;129;01min\u001b[39;00m X_test.columns]:\n",
      "\u001b[31mNameError\u001b[39m: name 'best_thr' is not defined"
     ]
    }
   ],
   "source": [
    "\n",
    "def evaluate_on_test(model, X_te=X_test, y_te=y_test, threshold=0.5):\n",
    "    proba = model.predict_proba(X_te)[:,1]\n",
    "    preds = (proba >= threshold).astype(int)\n",
    "    print(\"ROC-AUC:\", roc_auc_score(y_te, proba).round(4))\n",
    "    print(\"PR-AUC :\", average_precision_score(y_te, proba).round(4))\n",
    "    print(classification_report(y_te, preds, digits=3))\n",
    "\n",
    "    cm = confusion_matrix(y_te, preds)\n",
    "    ConfusionMatrixDisplay(cm).plot()\n",
    "    plt.title(\"Matriz de Confusão (Teste)\")\n",
    "    plt.show()\n",
    "\n",
    "evaluate_on_test(best_model, threshold=best_thr)\n",
    "\n",
    "# Métricas por subgrupos simples (fairness exploratório)\n",
    "for grp in [c for c in ['gender','Residence_type'] if c in X_test.columns]:\n",
    "    print(f\"\\n== Métricas por grupo: {grp} ==\")\n",
    "    for v in X_test[grp].dropna().unique():\n",
    "        mask = (X_test[grp] == v).values\n",
    "        if mask.sum() < 2:  # evitar relatórios com 1 amostra\n",
    "            continue\n",
    "        proba_g = best_model.predict_proba(X_test[mask])[:,1]\n",
    "        preds_g = (proba_g >= best_thr).astype(int)\n",
    "        print(f\"\\nGrupo = {grp} == {v}  (n={mask.sum()})\")\n",
    "        print(classification_report(y_test[mask], preds_g, digits=3))\n"
   ]
  },
  {
   "cell_type": "markdown",
   "id": "ca39b1e8",
   "metadata": {},
   "source": [
    "## 8) Persistência de Artefatos e Inferência"
   ]
  },
  {
   "cell_type": "code",
   "execution_count": 17,
   "id": "c5543dbe",
   "metadata": {},
   "outputs": [
    {
     "ename": "NameError",
     "evalue": "name 'best_thr' is not defined",
     "output_type": "error",
     "traceback": [
      "\u001b[31m---------------------------------------------------------------------------\u001b[39m",
      "\u001b[31mNameError\u001b[39m                                 Traceback (most recent call last)",
      "\u001b[36mCell\u001b[39m\u001b[36m \u001b[39m\u001b[32mIn[17]\u001b[39m\u001b[32m, line 9\u001b[39m\n\u001b[32m      4\u001b[39m meta_path  = MODELS_PATH / \u001b[33m\"\u001b[39m\u001b[33martifact.json\u001b[39m\u001b[33m\"\u001b[39m\n\u001b[32m      6\u001b[39m joblib.dump(best_model, model_path)\n\u001b[32m      7\u001b[39m artifact = {\n\u001b[32m      8\u001b[39m     \u001b[33m\"\u001b[39m\u001b[33mmodel_path\u001b[39m\u001b[33m\"\u001b[39m: \u001b[38;5;28mstr\u001b[39m(model_path),\n\u001b[32m----> \u001b[39m\u001b[32m9\u001b[39m     \u001b[33m\"\u001b[39m\u001b[33mthreshold\u001b[39m\u001b[33m\"\u001b[39m: \u001b[38;5;28mfloat\u001b[39m(\u001b[43mbest_thr\u001b[49m),\n\u001b[32m     10\u001b[39m     \u001b[33m\"\u001b[39m\u001b[33mcreated_at_utc\u001b[39m\u001b[33m\"\u001b[39m: datetime.utcnow().isoformat(),\n\u001b[32m     11\u001b[39m     \u001b[33m\"\u001b[39m\u001b[33mfeatures\u001b[39m\u001b[33m\"\u001b[39m: X.columns.tolist()\n\u001b[32m     12\u001b[39m }\n\u001b[32m     13\u001b[39m \u001b[38;5;28;01mwith\u001b[39;00m \u001b[38;5;28mopen\u001b[39m(meta_path, \u001b[33m\"\u001b[39m\u001b[33mw\u001b[39m\u001b[33m\"\u001b[39m) \u001b[38;5;28;01mas\u001b[39;00m f:\n\u001b[32m     14\u001b[39m     json.dump(artifact, f, indent=\u001b[32m2\u001b[39m)\n",
      "\u001b[31mNameError\u001b[39m: name 'best_thr' is not defined"
     ]
    }
   ],
   "source": [
    "\n",
    "# Salvar modelo e metadados\n",
    "MODELS_PATH.mkdir(exist_ok=True, parents=True)\n",
    "model_path = MODELS_PATH / \"stroke_model.joblib\"\n",
    "meta_path  = MODELS_PATH / \"artifact.json\"\n",
    "\n",
    "joblib.dump(best_model, model_path)\n",
    "artifact = {\n",
    "    \"model_path\": str(model_path),\n",
    "    \"threshold\": float(best_thr),\n",
    "    \"created_at_utc\": datetime.utcnow().isoformat(),\n",
    "    \"features\": X.columns.tolist()\n",
    "}\n",
    "with open(meta_path, \"w\") as f:\n",
    "    json.dump(artifact, f, indent=2)\n",
    "\n",
    "print(\"Modelo salvo em:\", model_path)\n",
    "print(\"Metadados salvos em:\", meta_path)\n"
   ]
  },
  {
   "cell_type": "code",
   "execution_count": null,
   "id": "ef6c93ac",
   "metadata": {},
   "outputs": [],
   "source": [
    "\n",
    "# Função de inferência (exemplo)\n",
    "def predict_stroke(input_row: dict, model=None, threshold=None):\n",
    "    if model is None:\n",
    "        model = joblib.load(\"models/stroke_model.joblib\")\n",
    "    if threshold is None:\n",
    "        meta = json.load(open(\"models/artifact.json\"))\n",
    "        threshold = float(meta.get(\"threshold\", 0.5))\n",
    "        feat = meta.get(\"features\")\n",
    "        # garantir colunas na ordem\n",
    "        row_df = pd.DataFrame([input_row])[feat]\n",
    "    else:\n",
    "        row_df = pd.DataFrame([input_row])[X.columns]\n",
    "    proba = model.predict_proba(row_df)[:,1][0]\n",
    "    pred  = int(proba >= threshold)\n",
    "    return {\"probability\": float(proba), \"prediction\": pred, \"threshold\": float(threshold)}\n",
    "\n",
    "# Exemplo (ajuste os valores conforme necessário):\n",
    "example = {\n",
    "    \"gender\":\"Male\",\"age\":67,\"hypertension\":1,\"heart_disease\":1,\"ever_married\":\"Yes\",\n",
    "    \"work_type\":\"Private\",\"Residence_type\":\"Urban\",\"avg_glucose_level\":205.0,\"bmi\":27.5,\"smoking_status\":\"formerly smoked\"\n",
    "}\n",
    "predict_stroke(example, model=best_model, threshold=best_thr)\n"
   ]
  },
  {
   "cell_type": "markdown",
   "id": "41b9838a",
   "metadata": {},
   "source": [
    "### 8.1 API FastAPI (Opcional)"
   ]
  },
  {
   "cell_type": "code",
   "execution_count": null,
   "id": "1edb4ca1",
   "metadata": {},
   "outputs": [],
   "source": [
    "\n",
    "# Para usar: salve este conteúdo como fastapi_app.py e rode: uvicorn fastapi_app:app --reload\n",
    "FASTAPI_TEMPLATE = r'''\n",
    "from fastapi import FastAPI\n",
    "import joblib, json, pandas as pd\n",
    "\n",
    "app = FastAPI(title=\"Stroke Prediction API\", version=\"1.0.0\")\n",
    "\n",
    "MODEL_PATH = \"models/stroke_model.joblib\"\n",
    "META_PATH  = \"models/artifact.json\"\n",
    "\n",
    "model = joblib.load(MODEL_PATH)\n",
    "meta  = json.load(open(META_PATH))\n",
    "threshold = float(meta.get(\"threshold\", 0.5))\n",
    "features  = meta.get(\"features\")\n",
    "\n",
    "@app.get(\"/health\")\n",
    "def health():\n",
    "    return {\"status\":\"ok\"}\n",
    "\n",
    "@app.post(\"/predict\")\n",
    "def predict(payload: dict):\n",
    "    import pandas as pd\n",
    "    x = pd.DataFrame([payload])[features]\n",
    "    proba = model.predict_proba(x)[:,1][0]\n",
    "    pred  = int(proba >= threshold)\n",
    "    return {\"probability\": float(proba), \"prediction\": pred, \"threshold\": threshold}\n",
    "'''\n",
    "print(FASTAPI_TEMPLATE)\n"
   ]
  },
  {
   "cell_type": "markdown",
   "id": "771e62ad",
   "metadata": {},
   "source": [
    "\n",
    "## 9) Próximos Passos\n",
    "\n",
    "- Experimentar *class_weight* e SMOTE em diferentes modelos, comparando **AUC-PR**.  \n",
    "- Calibração de probabilidades (*Platt* / *Isotonic*).  \n",
    "- Análise de *feature importance* por subgrupos para investigar vieses.  \n",
    "- Registrar experimentos (ex.: MLflow) e versionar dados/modelos.  \n",
    "- Protótipo de **deploy**: FastAPI/Gradio, ou exportar previsões para um dashboard (BI).\n"
   ]
  }
 ],
 "metadata": {
  "kernelspec": {
   "display_name": ".venv",
   "language": "python",
   "name": "python3"
  },
  "language_info": {
   "codemirror_mode": {
    "name": "ipython",
    "version": 3
   },
   "file_extension": ".py",
   "mimetype": "text/x-python",
   "name": "python",
   "nbconvert_exporter": "python",
   "pygments_lexer": "ipython3",
   "version": "3.13.2"
  }
 },
 "nbformat": 4,
 "nbformat_minor": 5
}
